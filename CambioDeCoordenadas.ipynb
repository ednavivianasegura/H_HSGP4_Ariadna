{
  "nbformat": 4,
  "nbformat_minor": 0,
  "metadata": {
    "colab": {
      "provenance": [],
      "authorship_tag": "ABX9TyM+e+jP4ycsiME5feA3ny5b",
      "include_colab_link": true
    },
    "kernelspec": {
      "name": "python3",
      "display_name": "Python 3"
    },
    "language_info": {
      "name": "python"
    }
  },
  "cells": [
    {
      "cell_type": "markdown",
      "metadata": {
        "id": "view-in-github",
        "colab_type": "text"
      },
      "source": [
        "<a href=\"https://colab.research.google.com/github/ednavivianasegura/H_HSGP4_Ariadna/blob/main/CambioDeCoordenadas.ipynb\" target=\"_parent\"><img src=\"https://colab.research.google.com/assets/colab-badge.svg\" alt=\"Open In Colab\"/></a>"
      ]
    },
    {
      "cell_type": "code",
      "execution_count": 1,
      "metadata": {
        "colab": {
          "base_uri": "https://localhost:8080/"
        },
        "id": "zZaig3V5tjd3",
        "outputId": "d8bc6b2c-3874-4711-9091-80a2f970f42a"
      },
      "outputs": [
        {
          "output_type": "stream",
          "name": "stdout",
          "text": [
            "Cloning into 'H_HSGP4_Ariadna'...\n",
            "remote: Enumerating objects: 58, done.\u001b[K\n",
            "remote: Counting objects: 100% (58/58), done.\u001b[K\n",
            "remote: Compressing objects: 100% (58/58), done.\u001b[K\n",
            "remote: Total 58 (delta 19), reused 0 (delta 0), pack-reused 0 (from 0)\u001b[K\n",
            "Receiving objects: 100% (58/58), 80.29 MiB | 6.68 MiB/s, done.\n",
            "Resolving deltas: 100% (19/19), done.\n",
            "Updating files: 100% (28/28), done.\n"
          ]
        }
      ],
      "source": [
        "!git clone https://github.com/ednavivianasegura/H_HSGP4_Ariadna.git"
      ]
    },
    {
      "cell_type": "code",
      "source": [
        "import os\n",
        "import pandas as pd\n",
        "os.chdir(\"H_HSGP4_Ariadna\")\n",
        "import Coordinates as coor\n"
      ],
      "metadata": {
        "id": "nQL0YGWsud9W"
      },
      "execution_count": 9,
      "outputs": []
    },
    {
      "cell_type": "code",
      "source": [
        "print(os.getcwd())"
      ],
      "metadata": {
        "colab": {
          "base_uri": "https://localhost:8080/"
        },
        "id": "BUBru4gVwTjf",
        "outputId": "86f7613c-729c-4638-ccae-0b17cc2e482d"
      },
      "execution_count": 13,
      "outputs": [
        {
          "output_type": "stream",
          "name": "stdout",
          "text": [
            "/content/H_HSGP4_Ariadna\n"
          ]
        }
      ]
    },
    {
      "cell_type": "code",
      "source": [
        "var_order = [\"t\",\"r\",\"theta\",\"v\",\"R\",\"THETA\",\"N\"]\n",
        "id_hill   = 1 #Hill al que se le quiere cambiar las coordenadas\n",
        "parametros={'sep':'\\s+','header':None,'names':var_order}\n",
        "path_data = \"data/\"\n",
        "file_obs  = 'obshill'+str(id_hill)+'.out'\n",
        "file_appr = 'approxhill'+str(id_hill)+'.out'\n",
        "path_file_obs   = path_data+\"OBS/\"+file_obs\n",
        "path_file_appr  = path_data+\"APPROX/\"+file_appr\n",
        "obs=pd.read_csv(path_file_obs, **parametros)\n",
        "appr=pd.read_csv(path_file_appr,**parametros)"
      ],
      "metadata": {
        "id": "T-WE1cWovFWa"
      },
      "execution_count": 21,
      "outputs": []
    },
    {
      "cell_type": "code",
      "source": [
        "orb_obs=coor.hill2orb(obs.copy())\n",
        "orb_appr=coor.hill2orb(appr.copy())"
      ],
      "metadata": {
        "id": "FnF27Q6TukfW"
      },
      "execution_count": 22,
      "outputs": []
    },
    {
      "cell_type": "code",
      "source": [
        "print(obs)\n",
        "print(orb_obs)"
      ],
      "metadata": {
        "colab": {
          "base_uri": "https://localhost:8080/"
        },
        "id": "yOlVTVZCxoaH",
        "outputId": "3e436ae2-a04e-40ff-bb98-00404d96b664"
      },
      "execution_count": 24,
      "outputs": [
        {
          "output_type": "stream",
          "name": "stdout",
          "text": [
            "              t             r     theta         v         R          THETA  \\\n",
            "0       0.00000  29946.918128  4.642004  1.652071  0.001185  109267.497917   \n",
            "1       0.00069  29946.989480  4.649319  1.652070  0.001192  109267.488075   \n",
            "2       0.00139  29947.061281  4.656633  1.652070  0.001200  109267.478841   \n",
            "3       0.00208  29947.133529  4.663948  1.652069  0.001207  109267.470219   \n",
            "4       0.00278  29947.206218  4.671263  1.652069  0.001214  109267.462209   \n",
            "...         ...           ...       ...       ...       ...            ...   \n",
            "86396  59.99722  29963.731832  1.322258  1.623427 -0.000934  109267.980394   \n",
            "86397  59.99792  29963.675582  1.329557  1.623426 -0.000942  109267.960172   \n",
            "86398  59.99861  29963.618895  1.336855  1.623426 -0.000949  109267.940454   \n",
            "86399  59.99931  29963.561774  1.344154  1.623425 -0.000956  109267.921244   \n",
            "86400  60.00000  29963.504222  1.351453  1.623424 -0.000963  109267.902547   \n",
            "\n",
            "                  N  \n",
            "0      62437.671105  \n",
            "1      62437.668691  \n",
            "2      62437.666278  \n",
            "3      62437.663867  \n",
            "4      62437.661459  \n",
            "...             ...  \n",
            "86396  62333.040801  \n",
            "86397  62333.040905  \n",
            "86398  62333.040977  \n",
            "86399  62333.041016  \n",
            "86400  62333.041023  \n",
            "\n",
            "[86401 rows x 7 columns]\n",
            "              t             a         e         i        OM         w  \\\n",
            "0       0.00000  29953.273137  0.000212  0.962561  1.652071  4.642004   \n",
            "1       0.00069  29953.267749  0.000210  0.962561  1.652070  4.649319   \n",
            "2       0.00139  29953.262695  0.000207  0.962561  1.652070  4.656633   \n",
            "3       0.00208  29953.257976  0.000204  0.962561  1.652069  4.663948   \n",
            "4       0.00278  29953.253593  0.000202  0.962561  1.652069  4.671263   \n",
            "...         ...           ...       ...       ...       ...       ...   \n",
            "86396  59.99722  29953.538588  0.000340  0.963730  1.623427  4.463851   \n",
            "86397  59.99792  29953.527501  0.000339  0.963730  1.623426  4.471149   \n",
            "86398  59.99861  29953.516691  0.000337  0.963730  1.623426  4.478448   \n",
            "86399  59.99931  29953.506158  0.000336  0.963730  1.623425  4.485747   \n",
            "86400  60.00000  29953.495906  0.000334  0.963730  1.623424  4.493045   \n",
            "\n",
            "              M  \n",
            "0      0.000000  \n",
            "1      0.000000  \n",
            "2      0.000000  \n",
            "3      0.000000  \n",
            "4      0.000000  \n",
            "...         ...  \n",
            "86396  3.141593  \n",
            "86397  3.141593  \n",
            "86398  3.141593  \n",
            "86399  3.141593  \n",
            "86400  3.141593  \n",
            "\n",
            "[86401 rows x 7 columns]\n"
          ]
        }
      ]
    },
    {
      "cell_type": "code",
      "source": [
        "print(appr)\n",
        "print(orb_appr)"
      ],
      "metadata": {
        "colab": {
          "base_uri": "https://localhost:8080/"
        },
        "id": "unSiasplyyWP",
        "outputId": "e9f485fc-454d-4c4a-aaed-613f63681c5a"
      },
      "execution_count": 25,
      "outputs": [
        {
          "output_type": "stream",
          "name": "stdout",
          "text": [
            "              t             r     theta         v         R          THETA  \\\n",
            "0       0.00000  29946.918128  4.642004  1.652071  0.001185  109267.497917   \n",
            "1       0.00069  29946.989478  4.649319  1.652070  0.001192  109267.492589   \n",
            "2       0.00139  29947.061281  4.656633  1.652070  0.001200  109267.487834   \n",
            "3       0.00208  29947.133533  4.663948  1.652069  0.001207  109267.483653   \n",
            "4       0.00278  29947.206230  4.671263  1.652069  0.001215  109267.480047   \n",
            "...         ...           ...       ...       ...       ...            ...   \n",
            "86396  59.99722  29963.836467  1.326703  1.623354 -0.001018  109267.781044   \n",
            "86397  59.99792  29963.775184  1.334001  1.623354 -0.001026  109267.762780   \n",
            "86398  59.99861  29963.713453  1.341300  1.623353 -0.001033  109267.745030   \n",
            "86399  59.99931  29963.651278  1.348598  1.623353 -0.001040  109267.727798   \n",
            "86400  60.00000  29963.588664  1.355897  1.623352 -0.001048  109267.711087   \n",
            "\n",
            "                  N  \n",
            "0      62437.671105  \n",
            "1      62437.670973  \n",
            "2      62437.670840  \n",
            "3      62437.670706  \n",
            "4      62437.670572  \n",
            "...             ...  \n",
            "86396  62335.041015  \n",
            "86397  62335.041003  \n",
            "86398  62335.040990  \n",
            "86399  62335.040976  \n",
            "86400  62335.040961  \n",
            "\n",
            "[86401 rows x 7 columns]\n",
            "              t             a         e         i        OM         w  \\\n",
            "0       0.00000  29953.273137  0.000212  0.962561  1.652071  4.642004   \n",
            "1       0.00069  29953.270225  0.000210  0.962561  1.652070  4.649319   \n",
            "2       0.00139  29953.267628  0.000207  0.962561  1.652070  4.656633   \n",
            "3       0.00208  29953.265345  0.000205  0.962561  1.652069  4.663948   \n",
            "4       0.00278  29953.263378  0.000202  0.962561  1.652069  4.671263   \n",
            "...         ...           ...       ...       ...       ...       ...   \n",
            "86396  59.99722  29953.429808  0.000347  0.963707  1.623354  4.468295   \n",
            "86397  59.99792  29953.419794  0.000346  0.963707  1.623354  4.475594   \n",
            "86398  59.99861  29953.410061  0.000344  0.963706  1.623353  4.482892   \n",
            "86399  59.99931  29953.400611  0.000342  0.963706  1.623353  4.490191   \n",
            "86400  60.00000  29953.391448  0.000340  0.963706  1.623352  4.497489   \n",
            "\n",
            "              M  \n",
            "0      0.000000  \n",
            "1      0.000000  \n",
            "2      0.000000  \n",
            "3      0.000000  \n",
            "4      0.000000  \n",
            "...         ...  \n",
            "86396  3.141593  \n",
            "86397  3.141593  \n",
            "86398  3.141593  \n",
            "86399  3.141593  \n",
            "86400  3.141593  \n",
            "\n",
            "[86401 rows x 7 columns]\n"
          ]
        }
      ]
    }
  ]
}